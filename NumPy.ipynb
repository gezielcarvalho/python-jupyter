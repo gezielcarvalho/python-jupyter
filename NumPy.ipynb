{
 "cells": [
  {
   "cell_type": "markdown",
   "id": "4ada446c",
   "metadata": {},
   "source": [
    "# Review NumPy\n"
   ]
  },
  {
   "cell_type": "code",
   "execution_count": null,
   "id": "4aa26171",
   "metadata": {},
   "outputs": [],
   "source": [
    "# Check Python version\n",
    "from platform import python_version\n",
    "print('Python version: '+ python_version())"
   ]
  },
  {
   "cell_type": "markdown",
   "id": "4284a3a6",
   "metadata": {},
   "source": [
    "## Import library"
   ]
  },
  {
   "cell_type": "code",
   "execution_count": null,
   "id": "2179c03f",
   "metadata": {},
   "outputs": [],
   "source": [
    "import numpy as dsa\n",
    "dsa.__version__"
   ]
  },
  {
   "cell_type": "markdown",
   "id": "e056008f",
   "metadata": {},
   "source": [
    "## Create a one-dimension array, check type and shape"
   ]
  },
  {
   "cell_type": "code",
   "execution_count": null,
   "id": "e29767ff",
   "metadata": {},
   "outputs": [],
   "source": [
    "array_one = dsa.array([10, 21, 32, 43, 48, 15, 76, 57, 89])\n",
    "print(array_one)\n",
    "print(type(array_one))\n",
    "array_one.shape"
   ]
  },
  {
   "cell_type": "markdown",
   "id": "3a5a841c",
   "metadata": {},
   "source": [
    "## Create a two-dimension array"
   ]
  },
  {
   "cell_type": "code",
   "execution_count": null,
   "id": "fc5e0c50",
   "metadata": {},
   "outputs": [],
   "source": [
    "array_two = dsa.array([[1,2,3],[3,4,5]])\n",
    "array_two.shape"
   ]
  },
  {
   "cell_type": "markdown",
   "id": "d2ae273a",
   "metadata": {},
   "source": [
    "## Create a three-dimension array and retrieve elements"
   ]
  },
  {
   "cell_type": "code",
   "execution_count": null,
   "id": "77dac9bb",
   "metadata": {},
   "outputs": [],
   "source": [
    "array_three = dsa.array([[[1,2,3,5],[1,1,1,1]],[[2,2,2,2],[3,4,5,7]],[[3,3,3,3],[3,3,3,3]]])\n",
    "array_three.shape"
   ]
  },
  {
   "cell_type": "code",
   "execution_count": null,
   "id": "b66aaacd",
   "metadata": {},
   "outputs": [],
   "source": [
    "array_three[0]"
   ]
  },
  {
   "cell_type": "code",
   "execution_count": null,
   "id": "5f41efc8",
   "metadata": {},
   "outputs": [],
   "source": [
    "array_three[0][0]"
   ]
  },
  {
   "cell_type": "code",
   "execution_count": null,
   "id": "a60ba2be",
   "metadata": {},
   "outputs": [],
   "source": [
    "array_three[0][0][2]"
   ]
  },
  {
   "cell_type": "code",
   "execution_count": null,
   "id": "bf9912d9",
   "metadata": {},
   "outputs": [],
   "source": []
  }
 ],
 "metadata": {
  "kernelspec": {
   "display_name": "Python 3 (ipykernel)",
   "language": "python",
   "name": "python3"
  },
  "language_info": {
   "codemirror_mode": {
    "name": "ipython",
    "version": 3
   },
   "file_extension": ".py",
   "mimetype": "text/x-python",
   "name": "python",
   "nbconvert_exporter": "python",
   "pygments_lexer": "ipython3",
   "version": "3.9.13"
  }
 },
 "nbformat": 4,
 "nbformat_minor": 5
}
